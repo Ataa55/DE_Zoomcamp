{
 "cells": [
  {
   "cell_type": "markdown",
   "id": "e18a3081-631f-4920-8098-c7e8b9c0c000",
   "metadata": {},
   "source": [
    "# Q1: Install Spark and PySpark"
   ]
  },
  {
   "cell_type": "code",
   "execution_count": 1,
   "id": "1234d377-503b-4688-98a3-8ebdf8d32409",
   "metadata": {},
   "outputs": [],
   "source": [
    "from pyspark.sql import SparkSession\n",
    "from pyspark.sql import functions as F"
   ]
  },
  {
   "cell_type": "code",
   "execution_count": 2,
   "id": "8e55f914-5350-4636-b6d8-f2b67b182712",
   "metadata": {},
   "outputs": [
    {
     "data": {
      "text/plain": [
       "'3.5.0'"
      ]
     },
     "execution_count": 2,
     "metadata": {},
     "output_type": "execute_result"
    }
   ],
   "source": [
    "spark = SparkSession.builder\\\n",
    "                    .master(\"local[*]\")\\\n",
    "                    .appName(\"week5_homework\")\\\n",
    "                    .getOrCreate()\n",
    "\n",
    "spark.version"
   ]
  },
  {
   "cell_type": "markdown",
   "id": "9d70e153-9aff-448b-a1c3-48b7c1f6ac38",
   "metadata": {},
   "source": [
    "# Question 2:\r\n",
    "FHV October 2019"
   ]
  },
  {
   "cell_type": "code",
   "execution_count": 3,
   "id": "1bae8bd2-a47d-43ef-afe5-37db20cafe09",
   "metadata": {},
   "outputs": [],
   "source": [
    "df_fhv_tripdata_2019 = spark.read.csv(\"/home/Spark/fhv_tripdata_2019-10.csv\", header = True, inferSchema = True)"
   ]
  },
  {
   "cell_type": "code",
   "execution_count": 4,
   "id": "00829c5c-8043-43f0-9ef6-1e1f510adc1f",
   "metadata": {},
   "outputs": [],
   "source": [
    "df_fhv_repa = df_fhv_tripdata_2019.repartition(6)\n",
    "df_fhv_repa.write.\\\n",
    "            format (\"parquet\").\\\n",
    "            mode(\"overwrite\").save(\"/home/Spark/homework_data\")"
   ]
  },
  {
   "cell_type": "code",
   "execution_count": 15,
   "id": "15a14094-3b76-4cee-b30f-bcd036644c18",
   "metadata": {},
   "outputs": [
    {
     "name": "stdout",
     "output_type": "stream",
     "text": [
      "root\n",
      " |-- dispatching_base_num: string (nullable = true)\n",
      " |-- pickup_datetime: timestamp (nullable = true)\n",
      " |-- dropOff_datetime: timestamp (nullable = true)\n",
      " |-- PUlocationID: integer (nullable = true)\n",
      " |-- DOlocationID: integer (nullable = true)\n",
      " |-- SR_Flag: string (nullable = true)\n",
      " |-- Affiliated_base_number: string (nullable = true)\n",
      "\n"
     ]
    }
   ],
   "source": [
    "df_fhv_tripdata_2019.printSchema()"
   ]
  },
  {
   "cell_type": "markdown",
   "id": "0a7111bc-5ea2-46a5-9ada-900aa47b1139",
   "metadata": {},
   "source": [
    "average size of the parquet files are 36MB"
   ]
  },
  {
   "cell_type": "markdown",
   "id": "e7d08fa5-96e6-4e28-a58b-61a01adf9e41",
   "metadata": {},
   "source": [
    "# Question 3:\r\n",
    "Count records"
   ]
  },
  {
   "cell_type": "code",
   "execution_count": 6,
   "id": "71f85d91-4d0d-4020-9b74-ed2f99181c56",
   "metadata": {},
   "outputs": [
    {
     "data": {
      "text/plain": [
       "62610"
      ]
     },
     "execution_count": 6,
     "metadata": {},
     "output_type": "execute_result"
    }
   ],
   "source": [
    "df_fhv_tripdata_2019 = df_fhv_tripdata_2019.withColumn(\"pickup_date\" , F.to_date(\"pickup_datetime\"))\n",
    "trips_15octoper_count = df_fhv_tripdata_2019.filter(df_fhv_tripdata_2019.pickup_date == \"2019-10-15\").count()\n",
    "trips_15octoper_count"
   ]
  },
  {
   "cell_type": "markdown",
   "id": "ba94044a-993c-40dc-9b5c-bddeb7aa13c9",
   "metadata": {},
   "source": [
    "# Question 4:\r\n",
    "Longest trip for each day"
   ]
  },
  {
   "cell_type": "code",
   "execution_count": 21,
   "id": "9d071b57-f285-4768-b075-04eda2313ad6",
   "metadata": {},
   "outputs": [
    {
     "name": "stdout",
     "output_type": "stream",
     "text": [
      "+-----------+-----------------+\n",
      "|pickup_date|max(tripDuration)|\n",
      "+-----------+-----------------+\n",
      "| 2019-10-28|     3.81819798E9|\n",
      "| 2019-10-11|     3.81678552E9|\n",
      "| 2019-10-31|  1.86197695345E9|\n",
      "| 2019-10-01|   1.7962610193E9|\n",
      "| 2019-10-26|    1.577546074E9|\n",
      "+-----------+-----------------+\n",
      "\n"
     ]
    }
   ],
   "source": [
    "df_fhv_tripdata_2019.withColumn(\"tripDuration\", \n",
    "              df_fhv_tripdata_2019.dropOff_datetime.cast(\"long\") -\n",
    "              df_fhv_tripdata_2019.pickup_datetime.cast(\"long\")/60).\\\n",
    "              groupby(\"pickup_date\").\\\n",
    "              max(\"tripDuration\").\\\n",
    "              orderBy(\"max(tripDuration)\", ascending=False).limit(5).\\\n",
    "              show()\n",
    "             "
   ]
  },
  {
   "cell_type": "markdown",
   "id": "122b42c2-3508-4617-a965-081ac221b2c2",
   "metadata": {},
   "source": [
    "# Question 5:\r\n",
    "User Interfac\n",
    "port: 8080\n",
    "e"
   ]
  },
  {
   "cell_type": "markdown",
   "id": "553e1ca9-c9a5-47f1-9608-f16e5c047a2d",
   "metadata": {},
   "source": [
    "# Question 6:\n",
    "Least frequent pickup location zone"
   ]
  },
  {
   "cell_type": "code",
   "execution_count": 23,
   "id": "e5019333-c36c-4837-b8d1-c38b93f166e3",
   "metadata": {},
   "outputs": [],
   "source": [
    "df_zone = spark.read.csv(\"/home/Spark/taxi+_zone_lookup.csv\", header = True, inferSchema=True)"
   ]
  },
  {
   "cell_type": "code",
   "execution_count": 26,
   "id": "8d235abb-28b9-4bcc-9b8c-26e8d05a796c",
   "metadata": {},
   "outputs": [
    {
     "name": "stdout",
     "output_type": "stream",
     "text": [
      "root\n",
      " |-- LocationID: integer (nullable = true)\n",
      " |-- Borough: string (nullable = true)\n",
      " |-- Zone: string (nullable = true)\n",
      " |-- service_zone: string (nullable = true)\n",
      "\n"
     ]
    }
   ],
   "source": [
    "df_zone.printSchema()"
   ]
  },
  {
   "cell_type": "code",
   "execution_count": null,
   "id": "2ca20b34-7086-4814-90f1-1a6ddd9bafdb",
   "metadata": {},
   "outputs": [],
   "source": [
    "df_fhv_tripdata_2019.join(df_zone, df_fhv_tripdata_2019.PUlocationID == df_zone.LocationID, \"left\").\\\n",
    "                     groupBy(\"zone\").\\\n",
    "                     count().\\\n",
    "                     orderBy(\"count\", ascending = False).\\\n",
    "                     limit(5).\\\n",
    "                     show()"
   ]
  },
  {
   "cell_type": "code",
   "execution_count": null,
   "id": "44fcbc21-f3b4-4b31-9318-f9a4d4e0dc73",
   "metadata": {},
   "outputs": [],
   "source": []
  }
 ],
 "metadata": {
  "kernelspec": {
   "display_name": "Python 3 (ipykernel)",
   "language": "python",
   "name": "python3"
  },
  "language_info": {
   "codemirror_mode": {
    "name": "ipython",
    "version": 3
   },
   "file_extension": ".py",
   "mimetype": "text/x-python",
   "name": "python",
   "nbconvert_exporter": "python",
   "pygments_lexer": "ipython3",
   "version": "3.11.6"
  }
 },
 "nbformat": 4,
 "nbformat_minor": 5
}
