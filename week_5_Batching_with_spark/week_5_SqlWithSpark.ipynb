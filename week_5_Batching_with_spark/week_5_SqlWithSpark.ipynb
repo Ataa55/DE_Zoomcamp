{
 "cells": [
  {
   "cell_type": "code",
   "execution_count": 70,
   "id": "4f70c5c4-d86f-4de3-b6b6-322345a4c510",
   "metadata": {},
   "outputs": [],
   "source": [
    "import re\n",
    "import os\n",
    "import json\n",
    "import random\n",
    "import string\n",
    "import argparse\n",
    "import datetime\n",
    "import pandas as pd\n",
    "from pyspark.sql import SparkSession\n",
    "from pyspark.sql import functions as F\n",
    "from pyspark.sql.types import StringType, ArrayType, StructType, StructField"
   ]
  },
  {
   "cell_type": "code",
   "execution_count": 11,
   "id": "d8964ae2-a66f-4a50-baf8-790484b0c7e2",
   "metadata": {},
   "outputs": [
    {
     "data": {
      "text/html": [
       "\n",
       "            <div>\n",
       "                <p><b>SparkSession - in-memory</b></p>\n",
       "                \n",
       "        <div>\n",
       "            <p><b>SparkContext</b></p>\n",
       "\n",
       "            <p><a href=\"http://5d0566d3ef71:4040\">Spark UI</a></p>\n",
       "\n",
       "            <dl>\n",
       "              <dt>Version</dt>\n",
       "                <dd><code>v3.5.0</code></dd>\n",
       "              <dt>Master</dt>\n",
       "                <dd><code>local[*]</code></dd>\n",
       "              <dt>AppName</dt>\n",
       "                <dd><code>week_5</code></dd>\n",
       "            </dl>\n",
       "        </div>\n",
       "        \n",
       "            </div>\n",
       "        "
      ],
      "text/plain": [
       "<pyspark.sql.session.SparkSession at 0x7f37cdf2dad0>"
      ]
     },
     "execution_count": 11,
     "metadata": {},
     "output_type": "execute_result"
    }
   ],
   "source": [
    "spark = SparkSession.builder\\\n",
    "                    .appName(\"DataMaskingScript\")\\\n",
    "                    .getOrCreate()\n",
    "spark"
   ]
  },
  {
   "cell_type": "code",
   "execution_count": 27,
   "id": "8cdbb0cc-ecc5-4af8-83d9-539701dff6ee",
   "metadata": {},
   "outputs": [],
   "source": [
    "df_taxi_green = spark.read.parquet(\"/home/Spark/data/raw/green/2021/*\")\n",
    "df_taxi_yellow = spark.read.parquet(\"/home/Spark/data/raw/yellow/2021/*\")"
   ]
  },
  {
   "cell_type": "code",
   "execution_count": 26,
   "id": "28a176a6-0641-444b-9ff4-a7f8c05fc487",
   "metadata": {},
   "outputs": [
    {
     "name": "stdout",
     "output_type": "stream",
     "text": [
      "root\n",
      " |-- VendorID: long (nullable = true)\n",
      " |-- lpep_pickup_datetime: timestamp_ntz (nullable = true)\n",
      " |-- lpep_dropoff_datetime: timestamp_ntz (nullable = true)\n",
      " |-- store_and_fwd_flag: string (nullable = true)\n",
      " |-- RatecodeID: double (nullable = true)\n",
      " |-- PULocationID: long (nullable = true)\n",
      " |-- DOLocationID: long (nullable = true)\n",
      " |-- passenger_count: double (nullable = true)\n",
      " |-- trip_distance: double (nullable = true)\n",
      " |-- fare_amount: double (nullable = true)\n",
      " |-- extra: double (nullable = true)\n",
      " |-- mta_tax: double (nullable = true)\n",
      " |-- tip_amount: double (nullable = true)\n",
      " |-- tolls_amount: double (nullable = true)\n",
      " |-- ehail_fee: integer (nullable = true)\n",
      " |-- improvement_surcharge: double (nullable = true)\n",
      " |-- total_amount: double (nullable = true)\n",
      " |-- payment_type: double (nullable = true)\n",
      " |-- trip_type: double (nullable = true)\n",
      " |-- congestion_surcharge: double (nullable = true)\n",
      "\n"
     ]
    }
   ],
   "source": [
    "df_taxi_green.printSchema()"
   ]
  },
  {
   "cell_type": "code",
   "execution_count": null,
   "id": "8cccf8ec-03ef-4cb4-846c-8b114a729a27",
   "metadata": {},
   "outputs": [],
   "source": [
    "common_columns = []"
   ]
  },
  {
   "cell_type": "code",
   "execution_count": 34,
   "id": "21493895-1187-4d43-81a0-69f272016745",
   "metadata": {},
   "outputs": [],
   "source": [
    "df_taxi_green = df_taxi_green.withColumnRenamed(\"lpep_pickup_datetime\",\"pickup_datetime\")\\\n",
    "                             .withColumnRenamed(\"lpep_dropoff_datetime\",\"dropoff_datetime\")\n",
    "\n",
    "df_taxi_yellow = df_taxi_yellow.withColumnRenamed(\"tpep_pickup_datetime\",\"pickup_datetime\")\\\n",
    "                             .withColumnRenamed(\"tpep_dropoff_datetime\",\"dropoff_datetime\")"
   ]
  },
  {
   "cell_type": "code",
   "execution_count": 35,
   "id": "8bd81590-ad56-4cdf-a97c-188fef518c2d",
   "metadata": {},
   "outputs": [
    {
     "data": {
      "text/plain": [
       "{'DOLocationID',\n",
       " 'PULocationID',\n",
       " 'RatecodeID',\n",
       " 'VendorID',\n",
       " 'congestion_surcharge',\n",
       " 'dropoff_datetime',\n",
       " 'extra',\n",
       " 'fare_amount',\n",
       " 'improvement_surcharge',\n",
       " 'mta_tax',\n",
       " 'passenger_count',\n",
       " 'payment_type',\n",
       " 'pickup_datetime',\n",
       " 'store_and_fwd_flag',\n",
       " 'tip_amount',\n",
       " 'tolls_amount',\n",
       " 'total_amount',\n",
       " 'trip_distance'}"
      ]
     },
     "execution_count": 35,
     "metadata": {},
     "output_type": "execute_result"
    }
   ],
   "source": [
    "(set(df_taxi_green.columns)) & (set(df_taxi_yellow.columns))"
   ]
  },
  {
   "cell_type": "code",
   "execution_count": 41,
   "id": "f869fd04-0efa-49f1-9b12-23bc2e69ae9e",
   "metadata": {},
   "outputs": [],
   "source": [
    "commn_columns = [] \n",
    "for column in df_taxi_green.columns:\n",
    "    yellow_columns = set(df_taxi_yellow.columns)\n",
    "    if column in yellow_columns:\n",
    "        commn_columns.append(column)\n",
    "    else:\n",
    "        pass"
   ]
  },
  {
   "cell_type": "code",
   "execution_count": 52,
   "id": "d5309cf8-640c-4bc4-a75a-9d4ba3d214b3",
   "metadata": {},
   "outputs": [
    {
     "data": {
      "text/plain": [
       "['VendorID',\n",
       " 'pickup_datetime',\n",
       " 'dropoff_datetime',\n",
       " 'store_and_fwd_flag',\n",
       " 'RatecodeID',\n",
       " 'PULocationID',\n",
       " 'DOLocationID',\n",
       " 'passenger_count',\n",
       " 'trip_distance',\n",
       " 'fare_amount',\n",
       " 'extra',\n",
       " 'mta_tax',\n",
       " 'tip_amount',\n",
       " 'tolls_amount',\n",
       " 'improvement_surcharge',\n",
       " 'total_amount',\n",
       " 'payment_type',\n",
       " 'congestion_surcharge']"
      ]
     },
     "execution_count": 52,
     "metadata": {},
     "output_type": "execute_result"
    }
   ],
   "source": [
    "commn_columns"
   ]
  },
  {
   "cell_type": "code",
   "execution_count": 47,
   "id": "16e53c70-b841-49d8-aa78-91bb01f1334d",
   "metadata": {},
   "outputs": [],
   "source": [
    "df_common_green = df_taxi_green.select(commn_columns)\\\n",
    "             .withColumn(\"taxiType\", F.lit(\"green\"))\n",
    "df_common_yellow = df_taxi_yellow.select(commn_columns)\\\n",
    "             .withColumn(\"taxiType\", F.lit(\"yellow\"))"
   ]
  },
  {
   "cell_type": "code",
   "execution_count": 50,
   "id": "4a5bf00f-ddd5-4d0c-a012-9b6a06684aef",
   "metadata": {},
   "outputs": [],
   "source": [
    "df_trips_data = df_common_green.unionAll(df_common_yellow)"
   ]
  },
  {
   "cell_type": "code",
   "execution_count": 51,
   "id": "5d7acdc5-ba3f-492f-8992-43ed661d587a",
   "metadata": {},
   "outputs": [
    {
     "name": "stdout",
     "output_type": "stream",
     "text": [
      "root\n",
      " |-- VendorID: long (nullable = true)\n",
      " |-- pickup_datetime: timestamp_ntz (nullable = true)\n",
      " |-- dropoff_datetime: timestamp_ntz (nullable = true)\n",
      " |-- store_and_fwd_flag: string (nullable = true)\n",
      " |-- RatecodeID: double (nullable = true)\n",
      " |-- PULocationID: long (nullable = true)\n",
      " |-- DOLocationID: long (nullable = true)\n",
      " |-- passenger_count: double (nullable = true)\n",
      " |-- trip_distance: double (nullable = true)\n",
      " |-- fare_amount: double (nullable = true)\n",
      " |-- extra: double (nullable = true)\n",
      " |-- mta_tax: double (nullable = true)\n",
      " |-- tip_amount: double (nullable = true)\n",
      " |-- tolls_amount: double (nullable = true)\n",
      " |-- improvement_surcharge: double (nullable = true)\n",
      " |-- total_amount: double (nullable = true)\n",
      " |-- payment_type: double (nullable = true)\n",
      " |-- congestion_surcharge: double (nullable = true)\n",
      " |-- taxiType: string (nullable = false)\n",
      "\n"
     ]
    }
   ],
   "source": [
    "df_trips_data.printSchema()"
   ]
  },
  {
   "cell_type": "code",
   "execution_count": 54,
   "id": "3e2aa5eb-dd29-4b7d-a50b-cf830726a131",
   "metadata": {
    "scrolled": true
   },
   "outputs": [
    {
     "name": "stdout",
     "output_type": "stream",
     "text": [
      "+--------+--------+\n",
      "|taxiType|   count|\n",
      "+--------+--------+\n",
      "|   green| 1068755|\n",
      "|  yellow|30904308|\n",
      "+--------+--------+\n",
      "\n"
     ]
    }
   ],
   "source": [
    "df_trips_data.groupby(\"taxiType\").count().show()"
   ]
  },
  {
   "cell_type": "code",
   "execution_count": 55,
   "id": "7a101d01-160f-4767-9e3b-070dc4883755",
   "metadata": {},
   "outputs": [],
   "source": [
    "df_trips_data.createOrReplaceTempView(\"trips_data\")"
   ]
  },
  {
   "cell_type": "code",
   "execution_count": 58,
   "id": "a48baaa1-ce1a-451b-b5b2-c064cc3b318c",
   "metadata": {},
   "outputs": [
    {
     "name": "stdout",
     "output_type": "stream",
     "text": [
      "+--------+\n",
      "|count(1)|\n",
      "+--------+\n",
      "| 1068755|\n",
      "|30904308|\n",
      "+--------+\n",
      "\n"
     ]
    }
   ],
   "source": [
    "spark.sql(\"\"\"\n",
    "select \n",
    "    count(*) \n",
    "from \n",
    "    trips_data\n",
    "group by \n",
    "    taxiType\n",
    "\n",
    "\"\"\").show()"
   ]
  },
  {
   "cell_type": "code",
   "execution_count": 63,
   "id": "84f1e9eb-e81c-4cdf-b2d9-7b6309c26183",
   "metadata": {},
   "outputs": [],
   "source": [
    "df_result = spark.sql(\"\"\"\n",
    "SELECT \n",
    "    -- Reveneue grouping \n",
    "    PULocationID AS revenue_zone,\n",
    "    date_trunc('month', pickup_datetime) AS revenue_month, \n",
    "    taxiType, \n",
    "\n",
    "    -- Revenue calculation \n",
    "    SUM(fare_amount) AS revenue_monthly_fare,\n",
    "    SUM(extra) AS revenue_monthly_extra,\n",
    "    SUM(mta_tax) AS revenue_monthly_mta_tax,\n",
    "    SUM(tip_amount) AS revenue_monthly_tip_amount,\n",
    "    SUM(tolls_amount) AS revenue_monthly_tolls_amount,\n",
    "    SUM(improvement_surcharge) AS revenue_monthly_improvement_surcharge,\n",
    "    SUM(total_amount) AS revenue_monthly_total_amount,\n",
    "    SUM(congestion_surcharge) AS revenue_monthly_congestion_surcharge,\n",
    "\n",
    "    -- Additional calculations\n",
    "    AVG(passenger_count) AS avg_montly_passenger_count,\n",
    "    AVG(trip_distance) AS avg_montly_trip_distance\n",
    "FROM\n",
    "    trips_data\n",
    "GROUP BY\n",
    "    1, 2, 3\n",
    "\"\"\")"
   ]
  },
  {
   "cell_type": "code",
   "execution_count": 64,
   "id": "a3cfe44d-deac-4bcc-afc3-31f1109ba39f",
   "metadata": {},
   "outputs": [],
   "source": [
    "df_result.coalesce(1).write.parquet(\"/home/Spark/data/revenue/\")"
   ]
  },
  {
   "cell_type": "code",
   "execution_count": 69,
   "id": "38e6ec76-d4a4-42be-9643-f9571a0d7492",
   "metadata": {},
   "outputs": [],
   "source": [
    "def contains_chars(char):\n",
    "    pattern = re.compile(r'[A-Za-z0-9\\u0600-\\u06FF]')\n",
    "    return bool(pattern.search(char))\n",
    "\n",
    "def mask_string(value):\n",
    "    if isinstance(value, str):\n",
    "        if len(value) < 5:\n",
    "            value = value + value[-2:]\n",
    "        for char in value:\n",
    "            if char in list(mapping_dict.keys()):\n",
    "                value = value.replace(char, mapping_dict[char])\n",
    "            else: \n",
    "                value = value.replace(char, list(mapping_dict.keys())[-1])\n",
    "    return valuedf_result.schema[\"revenue_monthly_fare\"].dataType\n",
    "\n",
    "\n",
    "def mask_nested_structure(df, column_name):\n",
    "    schema = df.schema[column_name].dataType\n",
    "\n",
    "    if isinstance(schema, ArrayType):\n",
    "        element_type = schema.elementType\n",
    "        if isinstance(element_type, StructType):\n",
    "            for field in element_type.fields:\n",
    "                nested_col_name = f\"{column_name}.{field.name}\"\n",
    "                df = mask_nested_structure(df, nested_col_name)\n",
    "        elif isinstance(element_type, StringType):\n",
    "            df = df.withColumn(column_name, F.expr(f\"transform({column_name}, x -> {mask_string_udf(x)})\"))\n",
    "\n",
    "    elif isinstance(schema, StructType):\n",
    "        for field in schema.fields:\n",
    "            nested_col_name = f\"{column_name}.{field.name}\"\n",
    "            df = mask_nested_structure(df, nested_col_name)\n",
    "\n",
    "    return df"
   ]
  },
  {
   "cell_type": "code",
   "execution_count": 67,
   "id": "b414b59a-bb8e-48c8-b190-eda94c733292",
   "metadata": {},
   "outputs": [],
   "source": [
    "df_companies = spark.read.json(\"/home/Spark/data/CompqniesData.json\")"
   ]
  },
  {
   "cell_type": "code",
   "execution_count": 68,
   "id": "8f2e937a-3ce9-4ace-9191-e857f8e8bff6",
   "metadata": {},
   "outputs": [
    {
     "name": "stdout",
     "output_type": "stream",
     "text": [
      "root\n",
      " |-- goods: struct (nullable = true)\n",
      " |    |-- customers: array (nullable = true)\n",
      " |    |    |-- element: string (containsNull = true)\n",
      " |    |-- orders: array (nullable = true)\n",
      " |    |    |-- element: struct (containsNull = true)\n",
      " |    |    |    |-- orderId: long (nullable = true)\n",
      " |    |    |    |-- orderTotal: double (nullable = true)\n",
      " |    |    |    |-- shipped: struct (nullable = true)\n",
      " |    |    |    |    |-- orderItems: array (nullable = true)\n",
      " |    |    |    |    |    |-- element: struct (containsNull = true)\n",
      " |    |    |    |    |    |    |-- itemName: string (nullable = true)\n",
      " |    |    |    |    |    |    |-- itemQty: long (nullable = true)\n",
      " |    |-- trade: boolean (nullable = true)\n",
      " |-- location: string (nullable = true)\n",
      " |-- name: string (nullable = true)\n",
      " |-- satellites: array (nullable = true)\n",
      " |    |-- element: string (containsNull = true)\n",
      "\n"
     ]
    }
   ],
   "source": [
    "df_companies.printSchema()"
   ]
  },
  {
   "cell_type": "code",
   "execution_count": null,
   "id": "b3703774-b74b-48f2-935d-d163f86ef6e2",
   "metadata": {},
   "outputs": [],
   "source": []
  },
  {
   "cell_type": "code",
   "execution_count": null,
   "id": "328a2187-3c81-4f58-894c-48384c142710",
   "metadata": {},
   "outputs": [],
   "source": []
  }
 ],
 "metadata": {
  "kernelspec": {
   "display_name": "Python 3 (ipykernel)",
   "language": "python",
   "name": "python3"
  },
  "language_info": {
   "codemirror_mode": {
    "name": "ipython",
    "version": 3
   },
   "file_extension": ".py",
   "mimetype": "text/x-python",
   "name": "python",
   "nbconvert_exporter": "python",
   "pygments_lexer": "ipython3",
   "version": "3.11.6"
  }
 },
 "nbformat": 4,
 "nbformat_minor": 5
}
